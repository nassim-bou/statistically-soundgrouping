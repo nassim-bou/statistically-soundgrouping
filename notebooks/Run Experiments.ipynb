{
 "cells": [
  {
   "cell_type": "code",
   "execution_count": 1,
   "metadata": {},
   "outputs": [
    {
     "data": {
      "text/plain": [
       "DataTransformerRegistry.enable('default')"
      ]
     },
     "execution_count": 1,
     "metadata": {},
     "output_type": "execute_result"
    }
   ],
   "source": [
    "import pandas as pd\n",
    "import numpy as np\n",
    "from itertools import product \n",
    "import itertools\n",
    "from datetime import datetime\n",
    "\n",
    "from source_code.core.hypothesis_evaluation.test_handler import baseline_test_groups\n",
    "import source_code.core.hypothesis_evaluation.generate_results as gen_results\n",
    "from source_code.core.hypothesis_evaluation.generate_graphs import *\n",
    "\n",
    "from source_code.models.models import get_data\n",
    "from source_code.utils.tools import add_index\n",
    "import sys\n",
    "import altair as alt\n",
    "\n",
    "alt.data_transformers.disable_max_rows()"
   ]
  },
  {
   "cell_type": "code",
   "execution_count": 2,
   "metadata": {},
   "outputs": [],
   "source": [
    "dataset = 'MovieLens'\n",
    "alphas = 0.05\n",
    "support = 15\n",
    "dimension = 'rating'\n",
    "grouping_type = [['genre']]\n",
    "grouping_value = [[\"Western\"]]\n",
    "agg_type = 'anova'\n",
    "test_args = ['Anova']\n",
    "periods_start = [datetime(2000, 10, 1, 0, 0), datetime(2000, 11, 1, 0, 0), datetime(2000, 12, 1, 0, 0)]\n",
    "period_arg = [0,18]\n",
    "top_n = [-1]\n",
    "period_type = 'time'\n",
    "\n",
    "d = {0:'Traditional',1:'Coverage_Two_Sides',2:'Coverage_Side_1',3:'Coverage_Side_2', 4:'Coverage_alpha_investing'}\n",
    "\n",
    "r = 'R2'"
   ]
  },
  {
   "cell_type": "code",
   "execution_count": 3,
   "metadata": {},
   "outputs": [],
   "source": [
    "dataset = 'MovieLens'\n",
    "alphas = 0.05\n",
    "support = 10\n",
    "dimension = 'rating'\n",
    "grouping_type = [['gender'], ['gender']]\n",
    "grouping_value = [['M'], ['M']]\n",
    "agg_type = 'mean'\n",
    "test_args = ['Paired']\n",
    "periods_start = [datetime(2001, 1, 1, 0, 0), datetime(2001, 3, 1, 0, 0)]\n",
    "period_arg = [3]\n",
    "top_n=[-1,25,20,15,10,5]\n",
    "period_type = 'time'\n",
    "\n",
    "d = {0:'Traditional',1:'Coverage_Two_Sides',2:'Coverage_Side_1',3:'Coverage_Side_2', 4:'Coverage_alpha_investing'}\n",
    "\n",
    "r = 'R3'"
   ]
  },
  {
   "cell_type": "code",
   "execution_count": 7,
   "metadata": {},
   "outputs": [],
   "source": [
    "fdr_power = []\n",
    "cov_p_values = []\n",
    "cov_samples = []\n",
    "time_samples = []\n",
    "time_n = []\n",
    "\n",
    "for k in range(5):\n",
    "    print(f'--------{k}--------')\n",
    "    \n",
    "    stats, res, p_values = baseline_test_groups(top_n, dataset,[0,1,2,3,4], period_type, periods_start, period_arg, grouping_type,\\\n",
    "                                            grouping_value, agg_type, dimension, test_args, support, alphas, verbose=True)\n",
    "    if stats is None:\n",
    "        print('No Results')\n",
    "    else:\n",
    "        samples = stats.keys()\n",
    "        \n",
    "        global_stats, global_res = gen_results.get_results_csv(stats, res, top_n, samples)\n",
    "        \n",
    "        global_stats.to_csv(f'../experiments/{dataset}/{r}/global_stats_{k+1}.csv',index=False)\n",
    "        global_res.to_csv(f'../experiments/{dataset}/{r}/global_res_{k+1}.csv',index=False)"
   ]
  },
  {
   "cell_type": "code",
   "execution_count": 5,
   "metadata": {},
   "outputs": [],
   "source": [
    "parameters = f' dataset = {dataset}\\n alphas = {alphas}\\n support = {support}\\n dimension = {dimension}\\n'\n",
    "parameters = parameters + f' grouping_type = {grouping_type}\\n grouping_value = {grouping_value}\\n'\n",
    "parameters = parameters + f' agg_type = {agg_type}\\n test_args = {test_args}\\n periods_start = {periods_start}\\n'\n",
    "parameters = parameters + f' period_arg = {period_arg}\\n top_n={top_n}\\n period_type={period_type}'\n",
    "\n",
    "p_values.to_csv(f'../experiments/{dataset}/{r}/p_values.csv',index=False)\n",
    "\n",
    "fil = open(f'../experiments/{dataset}/{r}/parameters','w')\n",
    "fil.write(parameters)\n",
    "fil.close()"
   ]
  },
  {
   "cell_type": "code",
   "execution_count": 6,
   "metadata": {},
   "outputs": [],
   "source": [
    "global_stats = []\n",
    "global_res = []\n",
    "\n",
    "for i in range(0,5):\n",
    "    global_stats.append( pd.read_csv(f'../experiments/{dataset}/{r}/global_stats_{i}.csv'))\n",
    "    global_res.append( pd.read_csv(f'../experiments/{dataset}/{r}/global_res_{i}.csv'))"
   ]
  },
  {
   "cell_type": "markdown",
   "metadata": {},
   "source": [
    "FDR - POWER"
   ]
  },
  {
   "cell_type": "code",
   "execution_count": 7,
   "metadata": {},
   "outputs": [],
   "source": [
    "samples = [10,30,50,70,100]\n",
    "fdr = get_fdr_power(global_stats,global_res,samples,threshold=-1)\n",
    "fdr_20 = get_fdr_power(global_stats,global_res,samples,threshold=20)"
   ]
  },
  {
   "cell_type": "markdown",
   "metadata": {},
   "source": [
    "Y : Sum Coverage (Sum p-values), X : Steps "
   ]
  },
  {
   "cell_type": "code",
   "execution_count": 8,
   "metadata": {},
   "outputs": [],
   "source": [
    "samples = [100]\n",
    "cov_p_n = get_cov_p_values_n(global_res,samples,threshold=20)"
   ]
  },
  {
   "cell_type": "markdown",
   "metadata": {},
   "source": [
    "X : Samples , Y : sum Coverage"
   ]
  },
  {
   "cell_type": "code",
   "execution_count": 9,
   "metadata": {},
   "outputs": [],
   "source": [
    "samples = [10,20,30,40,50,60,70,80,90,100]\n",
    "threshold = [20,-1]\n",
    "cov_sample = get_cov_samples(global_res,samples,threshold)"
   ]
  },
  {
   "cell_type": "markdown",
   "metadata": {},
   "source": [
    "X : Samples , Y : Time"
   ]
  },
  {
   "cell_type": "code",
   "execution_count": 10,
   "metadata": {},
   "outputs": [],
   "source": [
    "samples = [10,20,30,40,50,60,70,80,90,100]\n",
    "threshold = [10,-1]\n",
    "time_sample = get_time_sample(global_stats,samples,threshold)"
   ]
  },
  {
   "cell_type": "markdown",
   "metadata": {},
   "source": [
    "X : n, Y : Time"
   ]
  },
  {
   "cell_type": "code",
   "execution_count": 11,
   "metadata": {},
   "outputs": [],
   "source": [
    "samples = [40,100]\n",
    "time_n = get_tim_n(global_stats,samples)"
   ]
  },
  {
   "cell_type": "code",
   "execution_count": null,
   "metadata": {},
   "outputs": [],
   "source": []
  },
  {
   "cell_type": "code",
   "execution_count": null,
   "metadata": {},
   "outputs": [],
   "source": []
  }
 ],
 "metadata": {
  "kernelspec": {
   "display_name": "Python 3",
   "language": "python",
   "name": "python3"
  },
  "language_info": {
   "codemirror_mode": {
    "name": "ipython",
    "version": 3
   },
   "file_extension": ".py",
   "mimetype": "text/x-python",
   "name": "python",
   "nbconvert_exporter": "python",
   "pygments_lexer": "ipython3",
   "version": "3.8.5"
  }
 },
 "nbformat": 4,
 "nbformat_minor": 1
}
