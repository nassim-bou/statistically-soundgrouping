{
 "cells": [
  {
   "cell_type": "code",
   "execution_count": null,
   "metadata": {},
   "outputs": [],
   "source": [
    "import pandas as pd\n",
    "\n",
    "from source_code.core.hypothesis_evaluation.generate_graphs import *\n",
    "\n",
    "import sys\n",
    "import altair as alt\n",
    "from IPython.display import HTML"
   ]
  },
  {
   "cell_type": "code",
   "execution_count": null,
   "metadata": {},
   "outputs": [],
   "source": [
    "alt.data_transformers.disable_max_rows()\n",
    "alt.renderers.enable('svg')\n",
    "\n",
    "HTML('''\n",
    "<svg height=\"0\" width=\"0\" xmlns=\"http://www.w3.org/2000/svg\" version=\"1.1\">\n",
    "    <defs>\n",
    "\n",
    "        <!-- From SVG stripe generator \n",
    "        https://www.coffee-break-designs.com/labs/svg_stripe_generator/ -->\n",
    "        <pattern id=\"pattern_0\" patternUnits=\"userSpaceOnUse\" width=\"5\" height=\"5\" patternTransform=\"rotate(0)\">\n",
    "            <line x1=\"0\" y=\"0\" x2=\"0\" y2=\"5\" stroke=\"#CB37A5\" stroke-width=\"15\" />\n",
    "        </pattern>\n",
    "        \n",
    "        <pattern id=\"pattern_1\" patternUnits=\"userSpaceOnUse\" width=\"5\" height=\"5\" patternTransform=\"rotate(45)\">\n",
    "            <line x1=\"0\" y=\"0\" x2=\"0\" y2=\"5\" stroke=\"#1F77B4\" stroke-width=\"4\" />\n",
    "        </pattern>\n",
    "        \n",
    "        <pattern id=\"pattern_2\" patternUnits=\"userSpaceOnUse\" width=\"5\" height=\"5\" patternTransform=\"rotate(135)\">\n",
    "            <line x1=\"0\" y=\"0\" x2=\"0\" y2=\"5\" stroke=\"#FF7F0E\" stroke-width=\"4\" />\n",
    "        </pattern>\n",
    "\n",
    "        <pattern id=\"pattern_3\" patternUnits=\"userSpaceOnUse\" width=\"5\" height=\"5\" patternTransform=\"rotate(0)\">\n",
    "            <line x1=\"0\" y=\"0\" x2=\"0\" y2=\"5\" stroke=\"#2CA02C\" stroke-width=\"4\" />\n",
    "        </pattern>\n",
    "        \n",
    "        <pattern id=\"pattern_4\" patternUnits=\"userSpaceOnUse\" width=\"5\" height=\"5\" patternTransform=\"rotate(90)\">\n",
    "            <line x1=\"0\" y=\"0\" x2=\"0\" y2=\"5\" stroke=\"#D62728\" stroke-width=\"4\" />\n",
    "        </pattern>\n",
    "        \n",
    "        <pattern id=\"pattern_5\" patternUnits=\"userSpaceOnUse\" width=\"5\" height=\"5\" patternTransform=\"rotate(90)\">\n",
    "            <line x1=\"0\" y=\"0\" x2=\"0\" y2=\"5\" stroke=\"#9467BD\" stroke-width=\"4\" />\n",
    "            <line x1=\"0\" y=\"0\" x2=\"5\" y2=\"0\" stroke=\"#9467BD\" stroke-width=\"4\" />\n",
    "        </pattern>\n",
    "        \n",
    "        <pattern id=\"pattern_6\" patternUnits=\"userSpaceOnUse\" width=\"5\" height=\"5\" patternTransform=\"rotate(45)\">\n",
    "            <line x1=\"0\" y=\"0\" x2=\"5\" y2=\"0\" stroke=\"#8C564B\" stroke-width=\"4\" />\n",
    "            <line x1=\"0\" y=\"0\" x2=\"0\" y2=\"5\" stroke=\"#8C564B\" stroke-width=\"4\" />\n",
    "        </pattern>\n",
    "        \n",
    "        <pattern id=\"pattern_7\" patternUnits=\"userSpaceOnUse\" width=\"10\" height=\"10\" patternTransform=\"rotate(45)\">\n",
    "            <line x1=\"0\" y=\"0\" x2=\"0\" y2=\"10\" stroke=\"#316B83\" stroke-width=\"4\" />\n",
    "        </pattern>\n",
    "        \n",
    "        <pattern id=\"pattern_8\" patternUnits=\"userSpaceOnUse\" width=\"10\" height=\"10\" patternTransform=\"rotate(135)\">\n",
    "            <line x1=\"0\" y=\"0\" x2=\"0\" y2=\"10\" stroke=\"#CE6DBD\" stroke-width=\"4\" />\n",
    "        </pattern>\n",
    "        \n",
    "    </defs>\n",
    "</svg>\n",
    "''')"
   ]
  },
  {
   "cell_type": "code",
   "execution_count": null,
   "metadata": {},
   "outputs": [],
   "source": [
    "r = 'R8'\n",
    "\n",
    "df_res_s = []\n",
    "df_stat_s = []"
   ]
  },
  {
   "cell_type": "code",
   "execution_count": null,
   "metadata": {},
   "outputs": [],
   "source": [
    "#Get results file\n",
    "for k in range(10):\n",
    "    print(f'------{k}------')\n",
    "    df_res = pd.read_csv(f'../experiments/MovieLens/{r}/result_group_descriptions_{r}_{k}.csv')\n",
    "    df_stat = pd.read_csv(f'../experiments/MovieLens/{r}/result_statistics_{r}_{k}.csv')\n",
    "    \n",
    "    df_res = df_res.replace('SUPPORT_⍺','Ψ-Support')\n",
    "    df_res = df_res.replace('FARSIGHT_⍺','β-Farsighted')\n",
    "    df_res = df_res.replace('FIXED_⍺','γ-Fixed')\n",
    "    df_res = df_res.replace('HOPE_⍺','ẟ-Hopeful')\n",
    "    df_res = df_res.replace('HYBRID_⍺','Ɛ-Hybrid')\n",
    "    \n",
    "    df_stat = df_stat.replace('SUPPORT_⍺','Ψ-Support')\n",
    "    df_stat = df_stat.replace('FARSIGHT_⍺','β-Farsighted')\n",
    "    df_stat = df_stat.replace('FIXED_⍺','γ-Fixed')\n",
    "    df_stat = df_stat.replace('HOPE_⍺','ẟ-Hopeful')\n",
    "    df_stat = df_stat.replace('HYBRID_⍺','Ɛ-Hybrid')\n",
    "    \n",
    "    df_res.param = df_res.param.apply( lambda x : str(int(x)) if isinstance(x,float)==True and x > 1 else str(x) )\n",
    "    df_stat.param = df_stat.param.apply( lambda x : str(int(x)) if isinstance(x,float)==True and x > 1 else str(x) )\n",
    "\n",
    "    df_res.param = df_res.param.apply(lambda x: 'BN' if x=='fdr_b' else 'BY' if x=='fdr_by' else x)\n",
    "    df_stat.param = df_stat.param.apply(lambda x: 'BN' if x=='fdr_b' else 'BY' if x=='fdr_by' else x)\n",
    "    \n",
    "    df_res['algorithm'] = df_res['algorithm']+'_'+df_res['param']\n",
    "    df_stat['algorithm'] = df_stat['algorithm']+'_'+df_stat['param']\n",
    "    \n",
    "    df_res['pairs'] = df_res['group1'] + ' ' + df_res['group2']\n",
    "    df_res['coverage_gained'] = (df_res['coverage_gained_1'] + df_res['coverage_gained_2'])/2\n",
    "    \n",
    "    df_res = df_res.replace('Ψ-Support_0.1666666666666666','Ψ-Support_0.16666666666666666')\n",
    "    \n",
    "    df_res_s.append( df_res )\n",
    "    df_stat_s.append( df_stat )"
   ]
  },
  {
   "cell_type": "code",
   "execution_count": null,
   "metadata": {},
   "outputs": [],
   "source": [
    "num_hyps = [i/100 for i in df_stat_s[0]['sample'].unique()] #Get samples\n",
    "\n",
    "isin_best = ['COVER_G_BN','COVER_G_BY','β-Farsighted_0.9','γ-Fixed_500','ẟ-Hopeful_500',\\\n",
    "             'Ɛ-Hybrid_(0.75, 200, 200)','Ψ-Support_0.5','COVER_⍺_500']"
   ]
  },
  {
   "cell_type": "markdown",
   "metadata": {},
   "source": [
    "FDR - POWER"
   ]
  },
  {
   "cell_type": "code",
   "execution_count": null,
   "metadata": {},
   "outputs": [],
   "source": [
    "fdr = get_fdr_power(df_stat_s, df_res_s, num_hyps, isin_best, threshold=20)\n",
    "fdr"
   ]
  },
  {
   "cell_type": "markdown",
   "metadata": {},
   "source": [
    "X : Samples , Y : Coverage"
   ]
  },
  {
   "cell_type": "code",
   "execution_count": null,
   "metadata": {},
   "outputs": [],
   "source": [
    "cov_sample = get_cov_samples(df_stat_s, df_res_s, num_hyps, isin_best, threshold=[50])\n",
    "cov_sample"
   ]
  },
  {
   "cell_type": "markdown",
   "metadata": {},
   "source": [
    "X : Samples , Y : Time"
   ]
  },
  {
   "cell_type": "code",
   "execution_count": null,
   "metadata": {},
   "outputs": [],
   "source": [
    "time_sample = get_time_sample(df_stat_s, num_hyps, isin_best, threshold=[100])\n",
    "time_sample"
   ]
  },
  {
   "cell_type": "markdown",
   "metadata": {},
   "source": [
    "X : n, Y : Time"
   ]
  },
  {
   "cell_type": "code",
   "execution_count": null,
   "metadata": {},
   "outputs": [],
   "source": [
    "tim_n = get_tim_n(df_stat_s, [1], isin_best)\n",
    "tim_n"
   ]
  },
  {
   "cell_type": "markdown",
   "metadata": {},
   "source": [
    "Y : Sum Coverage (Sum p-values), X : Steps "
   ]
  },
  {
   "cell_type": "code",
   "execution_count": null,
   "metadata": {},
   "outputs": [],
   "source": [
    "cov_p_values_n = get_cov_p_values_n(df_stat_s, df_res_s, [1], isin_best, threshold=20)\n",
    "cov_p_values_n"
   ]
  },
  {
   "cell_type": "code",
   "execution_count": null,
   "metadata": {},
   "outputs": [],
   "source": []
  }
 ],
 "metadata": {
  "celltoolbar": "Raw Cell Format",
  "kernelspec": {
   "display_name": "Python 3",
   "language": "python",
   "name": "python3"
  },
  "language_info": {
   "codemirror_mode": {
    "name": "ipython",
    "version": 3
   },
   "file_extension": ".py",
   "mimetype": "text/x-python",
   "name": "python",
   "nbconvert_exporter": "python",
   "pygments_lexer": "ipython3",
   "version": "3.8.5"
  }
 },
 "nbformat": 4,
 "nbformat_minor": 1
}
